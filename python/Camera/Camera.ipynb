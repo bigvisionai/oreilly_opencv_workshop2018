{
 "cells": [
  {
   "cell_type": "markdown",
   "id": "understanding-editing",
   "metadata": {},
   "source": [
    "# Camera Test"
   ]
  },
  {
   "cell_type": "markdown",
   "id": "opponent-christopher",
   "metadata": {},
   "source": [
    "## Import modules"
   ]
  },
  {
   "cell_type": "code",
   "execution_count": 1,
   "id": "searching-fever",
   "metadata": {},
   "outputs": [],
   "source": [
    "import cv2\n",
    "import sys\n",
    "import numpy"
   ]
  },
  {
   "cell_type": "markdown",
   "id": "convertible-effectiveness",
   "metadata": {},
   "source": [
    "## Set source\n",
    "\n",
    "Set source as `0` or the `index` of the webcam to be used if you have multiple webcams."
   ]
  },
  {
   "cell_type": "code",
   "execution_count": 2,
   "id": "seeing-toyota",
   "metadata": {},
   "outputs": [],
   "source": [
    "source = 0"
   ]
  },
  {
   "cell_type": "markdown",
   "id": "creative-american",
   "metadata": {},
   "source": [
    "## Initialize the capture object and preview window"
   ]
  },
  {
   "cell_type": "code",
   "execution_count": 3,
   "id": "entire-unknown",
   "metadata": {},
   "outputs": [],
   "source": [
    "cap = cv2.VideoCapture(source)\n",
    "\n",
    "win_name = 'Camera Preview'\n",
    "cv2.namedWindow(win_name, cv2.WINDOW_NORMAL)"
   ]
  },
  {
   "cell_type": "markdown",
   "id": "frequent-niger",
   "metadata": {},
   "source": [
    "## Capture each frame and preview"
   ]
  },
  {
   "cell_type": "code",
   "execution_count": 4,
   "id": "legislative-cuisine",
   "metadata": {},
   "outputs": [],
   "source": [
    "while cv2.waitKey(1) != 27: # Escape\n",
    "    has_frame, frame = cap.read()\n",
    "    if not has_frame:\n",
    "        break\n",
    "    cv2.imshow(win_name, frame)\n",
    "cv2.destroyWindow(win_name)"
   ]
  },
  {
   "cell_type": "markdown",
   "id": "frank-intake",
   "metadata": {},
   "source": [
    "## Release capture device"
   ]
  },
  {
   "cell_type": "code",
   "execution_count": 5,
   "id": "illegal-interview",
   "metadata": {},
   "outputs": [],
   "source": [
    "cap.release()"
   ]
  },
  {
   "cell_type": "markdown",
   "id": "fifth-merchandise",
   "metadata": {},
   "source": [
    "## Thank You!"
   ]
  }
 ],
 "metadata": {
  "kernelspec": {
   "display_name": "Python 3",
   "language": "python",
   "name": "python3"
  },
  "language_info": {
   "codemirror_mode": {
    "name": "ipython",
    "version": 3
   },
   "file_extension": ".py",
   "mimetype": "text/x-python",
   "name": "python",
   "nbconvert_exporter": "python",
   "pygments_lexer": "ipython3",
   "version": "3.5.4"
  }
 },
 "nbformat": 4,
 "nbformat_minor": 5
}
