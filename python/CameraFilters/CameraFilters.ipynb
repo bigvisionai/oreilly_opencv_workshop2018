{
 "cells": [
  {
   "cell_type": "markdown",
   "id": "directed-verse",
   "metadata": {},
   "source": [
    "# Camera Filters\n",
    "\n",
    "In this notebook we will apply different filters over the camera feed."
   ]
  },
  {
   "cell_type": "markdown",
   "id": "constitutional-forestry",
   "metadata": {},
   "source": [
    "## Import modules"
   ]
  },
  {
   "cell_type": "code",
   "execution_count": 1,
   "id": "unable-bronze",
   "metadata": {},
   "outputs": [],
   "source": [
    "import cv2\n",
    "import sys\n",
    "import numpy"
   ]
  },
  {
   "cell_type": "markdown",
   "id": "focused-machine",
   "metadata": {},
   "source": [
    "## Set Flags for the different Filters\n",
    "\n",
    "* **PREVIEW** - It shows the simple webcam preview\n",
    "* **CANNY** - It shows the detected edges\n",
    "* **BLUR** - It shows the blurred image\n",
    "* **FEATURE** - It shows the detected features"
   ]
  },
  {
   "cell_type": "code",
   "execution_count": 2,
   "id": "perceived-beverage",
   "metadata": {},
   "outputs": [],
   "source": [
    "PREVIEW = 0\n",
    "CANNY = 1\n",
    "BLUR = 2\n",
    "FEATURES = 3"
   ]
  },
  {
   "cell_type": "markdown",
   "id": "tamil-brook",
   "metadata": {},
   "source": [
    "Set feature parameters for feature detection filter."
   ]
  },
  {
   "cell_type": "code",
   "execution_count": 3,
   "id": "caring-border",
   "metadata": {},
   "outputs": [],
   "source": [
    "feature_params = dict( maxCorners = 50,\n",
    "                       qualityLevel = 0.3,\n",
    "                       minDistance = 7,\n",
    "                       blockSize = 7 )"
   ]
  },
  {
   "cell_type": "markdown",
   "id": "coral-malta",
   "metadata": {},
   "source": [
    "## Set source\n",
    "\n",
    "Set source as `0` or the `index` of the webcam to be used if you have multiple webcams."
   ]
  },
  {
   "cell_type": "code",
   "execution_count": 4,
   "id": "local-aaron",
   "metadata": {},
   "outputs": [],
   "source": [
    "source = 0"
   ]
  },
  {
   "cell_type": "markdown",
   "id": "growing-extent",
   "metadata": {},
   "source": [
    "## Initialize the capture object and preview window"
   ]
  },
  {
   "cell_type": "code",
   "execution_count": 5,
   "id": "other-publisher",
   "metadata": {},
   "outputs": [],
   "source": [
    "cap = cv2.VideoCapture(source)\n",
    "win_name = 'Camera Filters'\n",
    "cv2.namedWindow(win_name, cv2.WINDOW_NORMAL)"
   ]
  },
  {
   "cell_type": "markdown",
   "id": "unavailable-export",
   "metadata": {},
   "source": [
    "## Capture each frame, apply filter and preview"
   ]
  },
  {
   "cell_type": "code",
   "execution_count": 6,
   "id": "thrown-princeton",
   "metadata": {},
   "outputs": [],
   "source": [
    "alive = True\n",
    "image_filter = PREVIEW\n",
    "while alive:\n",
    "    has_frame, frame = cap.read()\n",
    "    if not has_frame:\n",
    "        break\n",
    "\n",
    "    if image_filter == PREVIEW:\n",
    "        result = frame;\n",
    "    elif image_filter == CANNY:\n",
    "        result = cv2.Canny(frame, 80, 90);\n",
    "    elif image_filter == BLUR:\n",
    "        result = cv2.blur(frame, (13,13));\n",
    "    elif image_filter == FEATURES:\n",
    "         result = frame\n",
    "         frame_gray = cv2.cvtColor(frame, cv2.COLOR_BGR2GRAY)\n",
    "         corners = cv2.goodFeaturesToTrack(frame_gray, **feature_params)\n",
    "         if corners is not None:\n",
    "             for x, y in numpy.float32(corners).reshape(-1, 2):\n",
    "                 cv2.circle(result, (x,y), 10, (0, 255 , 0), 1)\n",
    "\n",
    "    cv2.imshow(win_name, result)\n",
    "\n",
    "    key = cv2.waitKey(1)\n",
    "    if key == ord('Q') or key == ord('q') or key == 27:\n",
    "        alive = False\n",
    "    elif key == ord('C') or key == ord('c'):\n",
    "        image_filter = CANNY\n",
    "    elif key == ord('B') or key == ord('b'):\n",
    "        image_filter = BLUR\n",
    "    elif key == ord('F') or key == ord('f'):\n",
    "        image_filter = FEATURES\n",
    "    elif key == ord('P') or key == ord('p'):\n",
    "        image_filter = PREVIEW\n",
    "        \n",
    "cv2.destroyWindow(win_name)"
   ]
  },
  {
   "cell_type": "markdown",
   "id": "preliminary-north",
   "metadata": {},
   "source": [
    "## Release capture device"
   ]
  },
  {
   "cell_type": "code",
   "execution_count": 7,
   "id": "generous-quantity",
   "metadata": {},
   "outputs": [],
   "source": [
    "cap.release()"
   ]
  },
  {
   "cell_type": "markdown",
   "id": "joined-editing",
   "metadata": {},
   "source": [
    "## Thank You!"
   ]
  }
 ],
 "metadata": {
  "kernelspec": {
   "display_name": "Python 3",
   "language": "python",
   "name": "python3"
  },
  "language_info": {
   "codemirror_mode": {
    "name": "ipython",
    "version": 3
   },
   "file_extension": ".py",
   "mimetype": "text/x-python",
   "name": "python",
   "nbconvert_exporter": "python",
   "pygments_lexer": "ipython3",
   "version": "3.5.4"
  }
 },
 "nbformat": 4,
 "nbformat_minor": 5
}
