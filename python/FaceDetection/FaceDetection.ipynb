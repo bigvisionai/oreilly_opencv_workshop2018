{
 "cells": [
  {
   "cell_type": "markdown",
   "id": "honest-arizona",
   "metadata": {},
   "source": [
    "# Face Detection\n",
    "\n",
    "In this notebook we will run a face detection model to detect faces in the camera feed."
   ]
  },
  {
   "cell_type": "markdown",
   "id": "vanilla-syndrome",
   "metadata": {},
   "source": [
    "## Import modules"
   ]
  },
  {
   "cell_type": "code",
   "execution_count": 1,
   "id": "formed-explanation",
   "metadata": {},
   "outputs": [],
   "source": [
    "import cv2\n",
    "import sys\n",
    "import numpy"
   ]
  },
  {
   "cell_type": "markdown",
   "id": "analyzed-annex",
   "metadata": {},
   "source": [
    "## Set the model parameters"
   ]
  },
  {
   "cell_type": "code",
   "execution_count": 2,
   "id": "public-project",
   "metadata": {},
   "outputs": [],
   "source": [
    "# Model parameters\n",
    "in_width = 300\n",
    "in_height = 300\n",
    "mean = [104, 117, 123]\n",
    "conf_threshold = 0.7"
   ]
  },
  {
   "cell_type": "markdown",
   "id": "short-gamma",
   "metadata": {},
   "source": [
    "## Set source\n",
    "\n",
    "Set source as `0` or the `index` of the webcam to be used if you have multiple webcams."
   ]
  },
  {
   "cell_type": "code",
   "execution_count": 3,
   "id": "sacred-singles",
   "metadata": {},
   "outputs": [],
   "source": [
    "source = 0"
   ]
  },
  {
   "cell_type": "markdown",
   "id": "afraid-reasoning",
   "metadata": {},
   "source": [
    "## Initialize the model object\n",
    "\n",
    "We will use a pre-trained caffe model to detect the face."
   ]
  },
  {
   "cell_type": "code",
   "execution_count": 4,
   "id": "commercial-organ",
   "metadata": {},
   "outputs": [],
   "source": [
    "net = cv2.dnn.readNetFromCaffe(\"../../data/deploy.prototxt\",\n",
    "                               \"../../data/res10_300x300_ssd_iter_140000_fp16.caffemodel\")"
   ]
  },
  {
   "cell_type": "markdown",
   "id": "powerful-instrumentation",
   "metadata": {},
   "source": [
    "## Initialize the capture object and preview window"
   ]
  },
  {
   "cell_type": "code",
   "execution_count": 5,
   "id": "constant-patch",
   "metadata": {},
   "outputs": [],
   "source": [
    "cap = cv2.VideoCapture(source)\n",
    "win_name = 'Camera Preview'\n",
    "cv2.namedWindow(win_name, cv2.WINDOW_NORMAL)"
   ]
  },
  {
   "cell_type": "markdown",
   "id": "sweet-karaoke",
   "metadata": {},
   "source": [
    "## Capture each frame, run detection and preview"
   ]
  },
  {
   "cell_type": "code",
   "execution_count": 6,
   "id": "sunrise-burton",
   "metadata": {},
   "outputs": [],
   "source": [
    "while cv2.waitKey(1) != 27:\n",
    "    has_frame, frame = cap.read()\n",
    "    if not has_frame:\n",
    "        break\n",
    "\n",
    "    frame_height = frame.shape[0]\n",
    "    frame_width = frame.shape[1]\n",
    "\n",
    "    # Create a 4D blob from a frame.\n",
    "    blob = cv2.dnn.blobFromImage(frame, 1.0, (in_width, in_height), mean, False, False)\n",
    "\n",
    "    # Run a model\n",
    "    net.setInput(blob)\n",
    "    detections = net.forward()\n",
    "\n",
    "    for i in range(detections.shape[2]):\n",
    "        confidence = detections[0, 0, i, 2]\n",
    "        if confidence > conf_threshold:\n",
    "            x_left_bottom = int(detections[0, 0, i, 3] * frame_width)\n",
    "            y_left_bottom = int(detections[0, 0, i, 4] * frame_height)\n",
    "            x_right_top = int(detections[0, 0, i, 5] * frame_width)\n",
    "            y_right_top = int(detections[0, 0, i, 6] * frame_height)\n",
    "\n",
    "            cv2.rectangle(frame, (x_left_bottom, y_left_bottom), (x_right_top, y_right_top), (0, 255, 0))\n",
    "            label = \"Confidence: %.4f\" % confidence\n",
    "            label_size, base_line = cv2.getTextSize(label, cv2.FONT_HERSHEY_SIMPLEX, 0.5, 1)\n",
    "\n",
    "            cv2.rectangle(frame, (x_left_bottom, y_left_bottom - label_size[1]),\n",
    "                                (x_left_bottom + label_size[0], y_left_bottom + base_line),\n",
    "                                (255, 255, 255), cv2.FILLED)\n",
    "            cv2.putText(frame, label, (x_left_bottom, y_left_bottom),\n",
    "                        cv2.FONT_HERSHEY_SIMPLEX, 0.5, (0, 0, 0))\n",
    "\n",
    "    t, _ = net.getPerfProfile()\n",
    "    label = 'Inference time: %.2f ms' % (t * 1000.0 / cv2.getTickFrequency())\n",
    "    cv2.putText(frame, label, (0, 15), cv2.FONT_HERSHEY_SIMPLEX, 0.5, (0, 255, 0))\n",
    "\n",
    "    cv2.imshow(win_name, frame)\n",
    "cv2.destroyWindow(win_name)"
   ]
  },
  {
   "cell_type": "markdown",
   "id": "suspected-cookbook",
   "metadata": {},
   "source": [
    "## Release capture device"
   ]
  },
  {
   "cell_type": "code",
   "execution_count": 7,
   "id": "senior-valuation",
   "metadata": {},
   "outputs": [],
   "source": [
    "cap.release()"
   ]
  },
  {
   "cell_type": "markdown",
   "id": "emerging-shark",
   "metadata": {},
   "source": [
    "## Thank You!"
   ]
  }
 ],
 "metadata": {
  "kernelspec": {
   "display_name": "Python 3",
   "language": "python",
   "name": "python3"
  },
  "language_info": {
   "codemirror_mode": {
    "name": "ipython",
    "version": 3
   },
   "file_extension": ".py",
   "mimetype": "text/x-python",
   "name": "python",
   "nbconvert_exporter": "python",
   "pygments_lexer": "ipython3",
   "version": "3.5.4"
  }
 },
 "nbformat": 4,
 "nbformat_minor": 5
}
